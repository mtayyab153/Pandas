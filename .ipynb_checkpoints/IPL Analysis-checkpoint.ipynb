{
 "cells": [
  {
   "cell_type": "code",
   "execution_count": null,
   "id": "6f8e8b64-252b-4f0f-9a61-2b375474f641",
   "metadata": {},
   "outputs": [],
   "source": [
    "print(\"hello\")"
   ]
  },
  {
   "cell_type": "code",
   "execution_count": 1,
   "id": "b276cd07-bdef-455b-9946-727eab77856f",
   "metadata": {},
   "outputs": [],
   "source": [
    "import numpy as np\n",
    "import pandas as pd"
   ]
  },
  {
   "cell_type": "code",
   "execution_count": 40,
   "id": "1ac57ceb-f0e2-4422-a212-609dc98e052b",
   "metadata": {},
   "outputs": [],
   "source": [
    "data = pd.read_csv('matches_csv.csv')"
   ]
  },
  {
   "cell_type": "code",
   "execution_count": 41,
   "id": "45ee73a8-0e02-4234-bd36-2a3880296334",
   "metadata": {},
   "outputs": [
    {
     "data": {
      "text/plain": [
       "pandas.core.frame.DataFrame"
      ]
     },
     "execution_count": 41,
     "metadata": {},
     "output_type": "execute_result"
    }
   ],
   "source": [
    "type(data)"
   ]
  },
  {
   "cell_type": "code",
   "execution_count": null,
   "id": "d4507934-e668-401a-913c-ea0a42ac443c",
   "metadata": {},
   "outputs": [],
   "source": [
    "data.shape"
   ]
  },
  {
   "cell_type": "code",
   "execution_count": null,
   "id": "62b1886f-04bd-4c8a-ab00-57e49d251a17",
   "metadata": {},
   "outputs": [],
   "source": [
    "data.info()"
   ]
  },
  {
   "cell_type": "code",
   "execution_count": null,
   "id": "6360224d-b6d6-4333-a16e-2481b66a4abc",
   "metadata": {},
   "outputs": [],
   "source": [
    "data.describe()"
   ]
  },
  {
   "cell_type": "code",
   "execution_count": null,
   "id": "3659d00d-fc2d-461e-bc5e-a5588051bf1c",
   "metadata": {},
   "outputs": [],
   "source": [
    "data.head()"
   ]
  },
  {
   "cell_type": "code",
   "execution_count": null,
   "id": "928a73ae-7f7b-4517-bd53-ec63e7d54de7",
   "metadata": {},
   "outputs": [],
   "source": [
    "data.head(2)"
   ]
  },
  {
   "cell_type": "code",
   "execution_count": null,
   "id": "67ebb685-1cf1-4414-8e8b-c434e2b54a5f",
   "metadata": {},
   "outputs": [],
   "source": [
    "data.tail()"
   ]
  },
  {
   "cell_type": "code",
   "execution_count": null,
   "id": "3ca35586-91eb-4811-838a-8c59472d1f26",
   "metadata": {},
   "outputs": [],
   "source": [
    "data.tail(2)"
   ]
  },
  {
   "cell_type": "code",
   "execution_count": null,
   "id": "9813c7c4-778f-4645-afbc-27335374a67c",
   "metadata": {},
   "outputs": [],
   "source": []
  },
  {
   "cell_type": "markdown",
   "id": "3ee573dc-e2e5-49f3-b43c-ac00b227441d",
   "metadata": {},
   "source": [
    "# Fetching rows and columns START"
   ]
  },
  {
   "cell_type": "code",
   "execution_count": null,
   "id": "0dfdb5a4-b802-4dda-bd25-1a5e3b441b39",
   "metadata": {},
   "outputs": [],
   "source": [
    "data['winner']"
   ]
  },
  {
   "cell_type": "code",
   "execution_count": null,
   "id": "4b66e7cf-ee76-4958-ac89-df1c207ce9ec",
   "metadata": {},
   "outputs": [],
   "source": [
    "data[['team1', 'team2', 'winner']]"
   ]
  },
  {
   "cell_type": "code",
   "execution_count": null,
   "id": "269747c1-5fa2-43eb-995a-683aa27c9812",
   "metadata": {},
   "outputs": [],
   "source": [
    "data.iloc[0]"
   ]
  },
  {
   "cell_type": "code",
   "execution_count": null,
   "id": "8667e99a-1824-40be-b94d-c720a8e982b8",
   "metadata": {},
   "outputs": [],
   "source": [
    "data.iloc[0:10]"
   ]
  },
  {
   "cell_type": "code",
   "execution_count": null,
   "id": "5e725590-07a7-4bb2-b154-824ad873977f",
   "metadata": {},
   "outputs": [],
   "source": [
    "data.iloc[10:20:2]"
   ]
  },
  {
   "cell_type": "code",
   "execution_count": null,
   "id": "bc339852-9394-4e88-a82f-8323e6482306",
   "metadata": {},
   "outputs": [],
   "source": [
    "data.iloc[[1,4,8]]"
   ]
  },
  {
   "cell_type": "code",
   "execution_count": null,
   "id": "43557779-62d5-4d30-85fe-4d34871b6228",
   "metadata": {},
   "outputs": [],
   "source": [
    "data.iloc[:,[4,5,10]]"
   ]
  },
  {
   "cell_type": "code",
   "execution_count": null,
   "id": "8e0a501f-886f-4107-9855-da06cf43a7f6",
   "metadata": {},
   "outputs": [],
   "source": [
    "data"
   ]
  },
  {
   "cell_type": "code",
   "execution_count": null,
   "id": "fcb7fe68-fab4-41cf-a831-b0079914ed54",
   "metadata": {},
   "outputs": [],
   "source": [
    "data['team1']"
   ]
  },
  {
   "cell_type": "code",
   "execution_count": null,
   "id": "9e1750c4-b4f7-4d3f-bb08-d29657dbcd37",
   "metadata": {},
   "outputs": [],
   "source": [
    "data[['team1', 'team2']]"
   ]
  },
  {
   "cell_type": "code",
   "execution_count": null,
   "id": "28e7af3e-00f5-41b3-bd16-f0ab2a684537",
   "metadata": {},
   "outputs": [],
   "source": [
    "data.iloc[0]"
   ]
  },
  {
   "cell_type": "code",
   "execution_count": null,
   "id": "c9877b36-4e2c-45fb-94c0-055f3ba7326d",
   "metadata": {},
   "outputs": [],
   "source": [
    "data.iloc[0:5]"
   ]
  },
  {
   "cell_type": "code",
   "execution_count": null,
   "id": "504d6ac7-4d0e-49b5-88f4-22172a10609e",
   "metadata": {},
   "outputs": [],
   "source": [
    "data.iloc[9:45:3]"
   ]
  },
  {
   "cell_type": "code",
   "execution_count": null,
   "id": "2342794c-c3d9-4de1-a127-6740c3415a7e",
   "metadata": {},
   "outputs": [],
   "source": [
    "data.iloc[[4,5,6]]"
   ]
  },
  {
   "cell_type": "code",
   "execution_count": null,
   "id": "3f1175dd-9bb5-457c-b66e-be4727c20aa2",
   "metadata": {},
   "outputs": [],
   "source": [
    "data.iloc[:, [2,3,8]]"
   ]
  },
  {
   "cell_type": "code",
   "execution_count": null,
   "id": "537a7d83-7a9f-45ca-82ef-5b88ca0541c2",
   "metadata": {},
   "outputs": [],
   "source": [
    "data.iloc[[0,1,2],[1,2,3]]"
   ]
  },
  {
   "cell_type": "code",
   "execution_count": null,
   "id": "1f712e20-e555-4465-9165-2edd68c725d0",
   "metadata": {},
   "outputs": [],
   "source": [
    "# How would you fetch the 'team1' column from the DataFrame?\n",
    "data['team1']"
   ]
  },
  {
   "cell_type": "code",
   "execution_count": null,
   "id": "3265bf13-1f63-4d41-93a5-8ea0a1073457",
   "metadata": {},
   "outputs": [],
   "source": [
    "# Can you fetch the 'team1', 'team2', and 'winner' columns together from the DataFrame?\n",
    "data[['team1', 'team2', 'winner']]"
   ]
  },
  {
   "cell_type": "code",
   "execution_count": null,
   "id": "cca3c9b6-bf73-4c55-80d5-af9afb3cbac2",
   "metadata": {},
   "outputs": [],
   "source": [
    "# How would you fetch the 10th row of the DataFrame?\n",
    "data.iloc[9]"
   ]
  },
  {
   "cell_type": "code",
   "execution_count": null,
   "id": "38d9eac1-bc40-4114-b1e2-bf347fbb421d",
   "metadata": {},
   "outputs": [],
   "source": [
    "# Can you fetch rows 20 to 30 from the DataFrame?\n",
    "data.iloc[20:31]"
   ]
  },
  {
   "cell_type": "code",
   "execution_count": null,
   "id": "e6b0d7e9-9333-4bb6-a6fe-5e245bdc4585",
   "metadata": {},
   "outputs": [],
   "source": [
    "# Fetch the 'city' and 'winner' columns for rows 50 to 60 from the DataFrame.\n",
    "data.iloc[50:61,[2,10]]"
   ]
  },
  {
   "cell_type": "code",
   "execution_count": null,
   "id": "ebc901d0-589e-4e27-9759-246352cad487",
   "metadata": {},
   "outputs": [],
   "source": []
  },
  {
   "cell_type": "markdown",
   "id": "ba1432ec-ef8f-4073-a0d6-b5288d74eb16",
   "metadata": {},
   "source": [
    "# Fetching rows and columns END"
   ]
  },
  {
   "cell_type": "code",
   "execution_count": null,
   "id": "6598f4c0-aa6c-4e4e-9011-6fc7fcb9322a",
   "metadata": {},
   "outputs": [],
   "source": []
  },
  {
   "cell_type": "markdown",
   "id": "8c2e81ba-50b5-4a17-befd-93776d7e23bf",
   "metadata": {},
   "source": [
    "# Basic Operations of DataFrame START"
   ]
  },
  {
   "cell_type": "code",
   "execution_count": null,
   "id": "dee35fbe-0bb1-4028-bd0c-323fb3ae5424",
   "metadata": {},
   "outputs": [],
   "source": [
    "data.min(numeric_only=True)"
   ]
  },
  {
   "cell_type": "code",
   "execution_count": null,
   "id": "954120c1-28bc-4b11-8ed0-a980a3abb3e2",
   "metadata": {},
   "outputs": [],
   "source": [
    "data.max(numeric_only=True)"
   ]
  },
  {
   "cell_type": "code",
   "execution_count": null,
   "id": "8948f303-dcdc-4e84-ade6-8b32ee613d32",
   "metadata": {},
   "outputs": [],
   "source": [
    "data.sum(numeric_only=True)"
   ]
  },
  {
   "cell_type": "code",
   "execution_count": null,
   "id": "52f2b784-aadd-4d2e-96e1-6be518cf8e6b",
   "metadata": {},
   "outputs": [],
   "source": [
    "data.mean(numeric_only=True)"
   ]
  },
  {
   "cell_type": "code",
   "execution_count": null,
   "id": "d933d6db-e1cd-4683-8b61-5e0fcf8eb9f7",
   "metadata": {},
   "outputs": [],
   "source": [
    "data.median(numeric_only=True)"
   ]
  },
  {
   "cell_type": "code",
   "execution_count": null,
   "id": "b0ad7fff-1c7a-4eb1-818e-39308629bea4",
   "metadata": {},
   "outputs": [],
   "source": [
    "data.mode(numeric_only=True)"
   ]
  },
  {
   "cell_type": "code",
   "execution_count": null,
   "id": "76352253-f430-4af8-848c-7bc1fcb198e6",
   "metadata": {},
   "outputs": [],
   "source": [
    "data.count()"
   ]
  },
  {
   "cell_type": "code",
   "execution_count": null,
   "id": "9d36edaa-baa7-45c6-ae84-694c95c3c5bf",
   "metadata": {},
   "outputs": [],
   "source": []
  },
  {
   "cell_type": "code",
   "execution_count": null,
   "id": "b7bcce3c-9828-4aee-860f-472be94f1696",
   "metadata": {},
   "outputs": [],
   "source": [
    "# What is the minimum value in the 'win_by_runs' column?\n",
    "data['win_by_runs'].min()"
   ]
  },
  {
   "cell_type": "code",
   "execution_count": null,
   "id": "0b3f20ce-ac19-416e-8bb5-864ce39d6041",
   "metadata": {},
   "outputs": [],
   "source": [
    "# What is the maximum value in the 'win_by_wickets' column?\n",
    "data['win_by_wickets'].max()"
   ]
  },
  {
   "cell_type": "code",
   "execution_count": null,
   "id": "5cf188d9-0db8-4c3d-bcc2-13d348158c3b",
   "metadata": {},
   "outputs": [],
   "source": [
    "# How many non-null values are there in the 'city' column?\n",
    "data['city'].count()"
   ]
  },
  {
   "cell_type": "code",
   "execution_count": null,
   "id": "b8fe8c9f-48d6-4e3a-9dca-7422c508ec5d",
   "metadata": {},
   "outputs": [],
   "source": [
    "# How many unique teams are there in the 'team1' column?\n",
    "data['team1'].nunique()"
   ]
  },
  {
   "cell_type": "code",
   "execution_count": null,
   "id": "6eeaf1e9-b749-4410-aea5-d75928d50e25",
   "metadata": {},
   "outputs": [],
   "source": [
    "# Calculate the total runs scored by all teams in the 'win_by_runs' column.\n",
    "data['win_by_runs'].sum()"
   ]
  },
  {
   "cell_type": "code",
   "execution_count": null,
   "id": "4bb2b7ca-a9fd-4212-af06-031ae5d12bb3",
   "metadata": {},
   "outputs": [],
   "source": [
    "# What is the mean value of the 'win_by_runs' column?\n",
    "data['win_by_runs'].mean()"
   ]
  },
  {
   "cell_type": "code",
   "execution_count": null,
   "id": "0c62aa80-b76b-44a7-b5ee-3d918e6e5963",
   "metadata": {},
   "outputs": [],
   "source": [
    "# Calculate the standard deviation of the 'win_by_runs' column.\n",
    "data['win_by_runs'].std()"
   ]
  },
  {
   "cell_type": "code",
   "execution_count": null,
   "id": "8a79c842-dadc-4032-89fa-0174937f2c50",
   "metadata": {},
   "outputs": [],
   "source": [
    "# How many times does the team 'Mumbai Indians' appear in the 'team1' column?\n",
    "mask = data['team1']=='Mumbai Indians'\n",
    "data[mask]['team1'].count()"
   ]
  },
  {
   "cell_type": "code",
   "execution_count": null,
   "id": "471b93df-fc4c-4fe1-bcc1-dece426d84a3",
   "metadata": {},
   "outputs": [],
   "source": [
    "# How would you fetch the matches where 'Mumbai Indians' played as 'team1'?\n",
    "mask = data['team1']=='Mumbai Indians'\n",
    "data[mask]"
   ]
  },
  {
   "cell_type": "code",
   "execution_count": null,
   "id": "78b4d4c2-d952-4cad-be0c-197e50fe95a2",
   "metadata": {},
   "outputs": [],
   "source": [
    "# What is the smallest margin of victory (in runs) for a match in the dataset?\n",
    "data['win_by_runs'].min()"
   ]
  },
  {
   "cell_type": "code",
   "execution_count": null,
   "id": "57bd5d5a-30f3-45da-a9cf-ab19a5c1e3c5",
   "metadata": {},
   "outputs": [],
   "source": [
    "# What is the total number of runs scored in all matches combined?\n",
    "data.sum(numeric_only=True)"
   ]
  },
  {
   "cell_type": "code",
   "execution_count": null,
   "id": "971985c8-b445-4bdd-b3d1-965a26e0e352",
   "metadata": {},
   "outputs": [],
   "source": []
  },
  {
   "cell_type": "markdown",
   "id": "7e310f53-15f4-4583-b043-05436a4acdec",
   "metadata": {},
   "source": [
    "# Basic Operations of DataFrame END"
   ]
  },
  {
   "cell_type": "code",
   "execution_count": null,
   "id": "547114d6-3797-4242-94c1-bd8c5cc95b4b",
   "metadata": {},
   "outputs": [],
   "source": []
  },
  {
   "cell_type": "markdown",
   "id": "9a21c228-9100-467a-87ad-31973da9e44d",
   "metadata": {},
   "source": [
    "# Filtering using conditions START"
   ]
  },
  {
   "cell_type": "code",
   "execution_count": null,
   "id": "2fb046c8-ce94-4d6d-a51e-b9a0e1a9a64c",
   "metadata": {},
   "outputs": [],
   "source": [
    "mask = data['city']=='Hyderabad'\n",
    "data[mask]"
   ]
  },
  {
   "cell_type": "code",
   "execution_count": null,
   "id": "ab6b1c58-5e68-4fdb-855f-6ad1afea0e20",
   "metadata": {},
   "outputs": [],
   "source": [
    "def get_city_matches(city):\n",
    "    mask = data['city']==city\n",
    "    return data[mask].shape[0]"
   ]
  },
  {
   "cell_type": "code",
   "execution_count": null,
   "id": "076e1f94-63c6-494d-aad7-b00eaf57622b",
   "metadata": {},
   "outputs": [],
   "source": [
    "get_city_matches('Hyderabad')"
   ]
  },
  {
   "cell_type": "code",
   "execution_count": null,
   "id": "cf2b9756-b7fd-480f-83c3-c8d75467246b",
   "metadata": {},
   "outputs": [],
   "source": [
    "get_city_matches('Rajkot')"
   ]
  },
  {
   "cell_type": "code",
   "execution_count": null,
   "id": "0e155dc3-3db4-4812-a100-01499ac73b32",
   "metadata": {},
   "outputs": [],
   "source": [
    "mask1 = data['city']=='Hyderabad'\n",
    "mask2 = data['date']>'2010-01-01'\n",
    "data[mask1 & mask2].shape[0]"
   ]
  },
  {
   "cell_type": "code",
   "execution_count": null,
   "id": "d752d6d2-f160-4d32-8f65-ec6f45b42ec9",
   "metadata": {},
   "outputs": [],
   "source": [
    "# mask1 = data['city']=='Hyderabad'\n",
    "# mask2 = data['date']>'2010-01-01'\n",
    "# data[mask1 & mask2].iloc[[0,1,2],[2,3,4,5,10]]"
   ]
  },
  {
   "cell_type": "code",
   "execution_count": null,
   "id": "27cc33d0-18b0-4775-8d2d-d2983dd6747b",
   "metadata": {},
   "outputs": [],
   "source": [
    "# mask1 = data['team1']=='Sunrisers Hyderabad'\n",
    "# mask2 = data['team2']=='Sunrisers Hyderabad'\n",
    "# mask3 = data['city']=='Hyderabad'\n",
    "# mask4 = data['winner']=='Sunrisers Hyderabad'\n",
    "# mask5 = data['win_by_runs']>0\n",
    "\n",
    "# data[(mask1 | mask2) & mask & mask4 & mask5 ].shape\n",
    "# data"
   ]
  },
  {
   "cell_type": "code",
   "execution_count": null,
   "id": "a026793f-63d3-4c0c-ae0c-2cb220dbabb1",
   "metadata": {},
   "outputs": [],
   "source": [
    "# How can you filter the dataset to only show matches from a specific season?\n",
    "# mask = data['season']==2017\n",
    "# data[mask]"
   ]
  },
  {
   "cell_type": "code",
   "execution_count": null,
   "id": "53859a16-ec60-4d6f-8f59-ecdd98786715",
   "metadata": {},
   "outputs": [],
   "source": [
    "# Can you demonstrate how to filter the dataset to display matches held in a particular city?\n",
    "# mask = data['city'].str.lower()=='chEnnai'.lower()\n",
    "# data[mask]\n",
    "\n"
   ]
  },
  {
   "cell_type": "code",
   "execution_count": null,
   "id": "9bbad085-3693-4d99-be3a-d38a6e80ade8",
   "metadata": {},
   "outputs": [],
   "source": [
    "# How would you extract the information for matches where the toss winner chose to bat?\n",
    "# toss_winner = 'Chennai Super Kings'\n",
    "# mask1 = data['toss_winner']==toss_winner\n",
    "# mask2 = data['toss_decision']=='bat'\n",
    "# data[mask1 & mask2]"
   ]
  },
  {
   "cell_type": "code",
   "execution_count": null,
   "id": "4d170bdc-aa73-4fcc-8d2d-b4248567e010",
   "metadata": {},
   "outputs": [],
   "source": [
    "# Show the steps to filter the dataset to only display matches where the result was \"tie.\"\n",
    "# mask = data['result']=='tie'\n",
    "# data[mask]"
   ]
  },
  {
   "cell_type": "code",
   "execution_count": null,
   "id": "b8c1b5cd-4ba0-42ba-9873-aa6816848039",
   "metadata": {},
   "outputs": [],
   "source": [
    "# How can you extract matches where the margin of victory was by runs and it was more than 50 runs?\n",
    "# mask = data['win_by_runs']>50\n",
    "# data[mask]"
   ]
  },
  {
   "cell_type": "code",
   "execution_count": null,
   "id": "8b77f762-c48c-4124-98a1-87849de696cd",
   "metadata": {},
   "outputs": [],
   "source": [
    "# Demonstrate how to filter the dataset to show matches where the DL method was applied.\n",
    "# mask = data['dl_applied']==1\n",
    "# data[mask]"
   ]
  },
  {
   "cell_type": "code",
   "execution_count": null,
   "id": "faa59ea5-3b51-4b64-8204-0c3b1ead7704",
   "metadata": {},
   "outputs": [],
   "source": [
    "# How would you filter the dataset to display matches where a specific team won?\n",
    "# team = 'Royal Challengers Bangalore'\n",
    "# mask = data['winner']==team\n",
    "# data[mask]"
   ]
  },
  {
   "cell_type": "code",
   "execution_count": null,
   "id": "3677d40c-957c-4ae4-925e-dfb715e0e432",
   "metadata": {},
   "outputs": [],
   "source": [
    "# Show the steps to filter the dataset to only display matches where a certain team won by a margin of more than 30 runs.\n",
    "# team = 'Royal Challengers Bangalore'\n",
    "# mask = data['winner']==team\n",
    "# mask2 = data['win_by_runs']>30\n",
    "# data[mask & mask2]"
   ]
  },
  {
   "cell_type": "code",
   "execution_count": null,
   "id": "48443ba1-a2ea-41a1-8f7e-ab8d198b14c9",
   "metadata": {},
   "outputs": [],
   "source": [
    "# How can you extract matches where the 'player_of_match' was from a particular team?\n",
    "# chosen_team = 'Royal Challengers Bangalore'\n",
    "# mask = (data['team1'] == chosen_team) | (data['team2'] == chosen_team)\n",
    "# data[mask]"
   ]
  },
  {
   "cell_type": "code",
   "execution_count": null,
   "id": "f5f70e2b-e907-4ea9-885f-8b91b1fa0be7",
   "metadata": {},
   "outputs": [],
   "source": [
    "# Demonstrate how to filter the dataset to show matches where a specific umpire1 was officiating.\n",
    "# umpire = 'AY Dandekar'\n",
    "# mask = data['umpire1']==umpire\n",
    "# data[mask]"
   ]
  },
  {
   "cell_type": "markdown",
   "id": "3e51bdf7-05f2-46e6-bd54-025e9699629e",
   "metadata": {},
   "source": [
    "# Filtering using conditions END"
   ]
  },
  {
   "cell_type": "code",
   "execution_count": null,
   "id": "6d0b4d4c-ffdb-403b-bf1f-1a8f236485cc",
   "metadata": {},
   "outputs": [],
   "source": []
  },
  {
   "cell_type": "markdown",
   "id": "4ae113e5-f45e-471d-8da2-52fc9f11a7ba",
   "metadata": {},
   "source": [
    "# value_counts() START"
   ]
  },
  {
   "cell_type": "code",
   "execution_count": null,
   "id": "5a2bfed3-43bb-4df0-8c58-cdd3943e396e",
   "metadata": {},
   "outputs": [],
   "source": [
    "data['winner'].value_counts()"
   ]
  },
  {
   "cell_type": "code",
   "execution_count": null,
   "id": "4df7736b-accf-4a6d-9d5b-96a5802616bc",
   "metadata": {},
   "outputs": [],
   "source": [
    "# How many matches were played in each season?\n",
    "# data\n",
    "# data['season'].value_counts()"
   ]
  },
  {
   "cell_type": "code",
   "execution_count": null,
   "id": "d0af7a83-6f07-412d-9aee-9813435929e7",
   "metadata": {},
   "outputs": [],
   "source": [
    "# For a specific team, how many matches did they win as the toss winner and chose to field?\n",
    "chosen_team = 'Chennai Super Kings'\n",
    "mask = (data['toss_winner'] == chosen_team) & (data['toss_decision'] == 'field')\n",
    "matches_won_by_fielding = data[mask]['team1'].value_counts()\n",
    "matches_won_by_fielding"
   ]
  },
  {
   "cell_type": "code",
   "execution_count": null,
   "id": "05949f27-d4d9-44df-a5cf-1d2b203fbd58",
   "metadata": {},
   "outputs": [],
   "source": [
    "# How many matches in the dataset had the result as 'tie' for each season?\n",
    "mask = data['result']=='tie'\n",
    "data[mask]['season'].value_counts()"
   ]
  },
  {
   "cell_type": "code",
   "execution_count": null,
   "id": "047ef3a7-b897-4525-9950-33cec2497988",
   "metadata": {},
   "outputs": [],
   "source": [
    "# What is the distribution of matches won by each team in the dataset?\n",
    "data['winner'].value_counts()"
   ]
  },
  {
   "cell_type": "code",
   "execution_count": null,
   "id": "422ccd1d-6afa-4ee9-8d31-43b29d471d71",
   "metadata": {},
   "outputs": [],
   "source": [
    "# For a particular city, how many matches were played and how many of them had the result as 'tie'?\n",
    "chosen_city = \"Mumbai\"\n",
    "# Count the total matches played in the chosen city\n",
    "total_matches_in_city = data['city'].value_counts().get(chosen_city, 0)\n",
    "\n",
    "# Count the matches with result as 'tie' in the chosen city\n",
    "matches_with_tie_result = (data[data['city'] == chosen_city]['result'] == 'tie').sum()\n",
    "\n",
    "print(f\"Total matches played in {chosen_city}: {total_matches_in_city}\")\n",
    "print(f\"Matches with result as 'tie' in {chosen_city}: {matches_with_tie_result}\")"
   ]
  },
  {
   "cell_type": "code",
   "execution_count": null,
   "id": "202e635e-2f80-49b3-afbd-fc38f19d0693",
   "metadata": {},
   "outputs": [],
   "source": [
    "# How many times was each umpire1 assigned to officiate matches in the dataset?\n",
    "data['umpire1'].value_counts()"
   ]
  },
  {
   "cell_type": "code",
   "execution_count": null,
   "id": "d2a1f5a4-4f0c-4c42-bc3a-1ddcd739cc89",
   "metadata": {},
   "outputs": [],
   "source": [
    "# What is the distribution of matches won by a margin of more than 30 runs for each season?\n",
    "mask = data['win_by_runs']>30\n",
    "data[mask]['season'].value_counts()"
   ]
  },
  {
   "cell_type": "code",
   "execution_count": null,
   "id": "d7f45493-ba6c-414c-acbb-57e3a36eac9f",
   "metadata": {},
   "outputs": [],
   "source": [
    "# How many times did each team win the toss and choose to bat?\n",
    "mask = data['toss_decision']=='bat'\n",
    "data[mask]['team1'].value_counts()"
   ]
  },
  {
   "cell_type": "code",
   "execution_count": null,
   "id": "47e2e885-b94a-4aed-9463-8ccde4dd0044",
   "metadata": {},
   "outputs": [],
   "source": [
    "# How many matches had the Duckworth-Lewis (DL) method applied for each season?\n",
    "mask = data['dl_applied']==1\n",
    "data[mask]['season'].value_counts()"
   ]
  },
  {
   "cell_type": "code",
   "execution_count": null,
   "id": "79f38b79-fe60-401e-a0cf-adadc5adf038",
   "metadata": {},
   "outputs": [],
   "source": [
    "# How many matches did each team win when they won the toss and chose to bat?\n",
    "team = 'Sunrisers Hyderabad'\n",
    "mask1 = data['toss_winner']==team\n",
    "mask2 = data['toss_decision']=='bat'\n",
    "data[mask1 & mask2]['team1'].value_counts()"
   ]
  },
  {
   "cell_type": "markdown",
   "id": "14583ea3-b6bf-47f8-927c-3ce1052b97d1",
   "metadata": {},
   "source": [
    "# value_counts() END"
   ]
  },
  {
   "cell_type": "code",
   "execution_count": null,
   "id": "dcedd7d1-6e87-43f7-9b23-93e5e9741ca4",
   "metadata": {},
   "outputs": [],
   "source": []
  },
  {
   "cell_type": "markdown",
   "id": "54d0c9f5-58ea-44af-806b-5eb23a158031",
   "metadata": {},
   "source": [
    "# Tha pandas plot() START"
   ]
  },
  {
   "cell_type": "code",
   "execution_count": null,
   "id": "59c7a36e-8c1e-4cee-9568-394a8152df32",
   "metadata": {},
   "outputs": [],
   "source": [
    "import matplotlib.pyplot as plt"
   ]
  },
  {
   "cell_type": "code",
   "execution_count": null,
   "id": "719dcf92-ccb3-4a03-acc5-9dadb3a94225",
   "metadata": {},
   "outputs": [],
   "source": [
    "data['winner'].value_counts().plot(kind='bar')"
   ]
  },
  {
   "cell_type": "code",
   "execution_count": null,
   "id": "046d069a-5c0a-4e4d-b9bf-53f9e936f9c0",
   "metadata": {},
   "outputs": [],
   "source": [
    "data['winner'].value_counts().plot(kind='barh')"
   ]
  },
  {
   "cell_type": "code",
   "execution_count": null,
   "id": "b4f23b74-163c-4845-b924-7174e1dcb3e0",
   "metadata": {},
   "outputs": [],
   "source": [
    "data['winner'].value_counts().head().plot(kind='bar')"
   ]
  },
  {
   "cell_type": "code",
   "execution_count": null,
   "id": "b00bce54-b93d-4bcd-9e6a-aa600184b00e",
   "metadata": {},
   "outputs": [],
   "source": [
    "data['toss_decision'].value_counts().plot(kind='pie')"
   ]
  },
  {
   "cell_type": "code",
   "execution_count": null,
   "id": "f4705c92-6b62-4887-93e1-5caaa652d626",
   "metadata": {},
   "outputs": [],
   "source": [
    "data['win_by_runs'].plot(kind='hist')"
   ]
  },
  {
   "cell_type": "markdown",
   "id": "f5042e93-6167-421f-90b2-730344f911d1",
   "metadata": {},
   "source": [
    "# Tha pandas plot() END"
   ]
  },
  {
   "cell_type": "code",
   "execution_count": null,
   "id": "c8f15c5d-3621-4c8b-baab-6ffdc0dde6d6",
   "metadata": {},
   "outputs": [],
   "source": []
  },
  {
   "cell_type": "markdown",
   "id": "881610a8-e2f6-4562-9d49-bb2f8dfc632f",
   "metadata": {},
   "source": [
    "# Series Operations START"
   ]
  },
  {
   "cell_type": "code",
   "execution_count": null,
   "id": "e09c2e4f-63f9-4e0e-8f53-16dc3eb1d688",
   "metadata": {},
   "outputs": [],
   "source": [
    "my_series = data['winner'].value_counts()"
   ]
  },
  {
   "cell_type": "code",
   "execution_count": null,
   "id": "0c32fbca-f671-4bc2-b03b-187a6b0005a7",
   "metadata": {},
   "outputs": [],
   "source": [
    "my_series.head()"
   ]
  },
  {
   "cell_type": "code",
   "execution_count": null,
   "id": "759125f0-5cd7-4351-9c22-c30bd4941089",
   "metadata": {},
   "outputs": [],
   "source": [
    "my_series.tail()"
   ]
  },
  {
   "cell_type": "code",
   "execution_count": null,
   "id": "fc01711b-0c86-4913-9bd7-aab17dbcd80a",
   "metadata": {},
   "outputs": [],
   "source": [
    "my_series.index"
   ]
  },
  {
   "cell_type": "code",
   "execution_count": null,
   "id": "3f9879af-0e8c-4e81-9907-8c56fc1953ee",
   "metadata": {},
   "outputs": [],
   "source": [
    "my_series.values"
   ]
  },
  {
   "cell_type": "code",
   "execution_count": null,
   "id": "c873b2da-b2ee-460b-b9e6-09a4bd6df7e4",
   "metadata": {},
   "outputs": [],
   "source": [
    "my_series['Chennai Super Kings']"
   ]
  },
  {
   "cell_type": "code",
   "execution_count": null,
   "id": "2520655b-a0ff-4cde-9223-ea53cd11b3fc",
   "metadata": {},
   "outputs": [],
   "source": [
    "data['team1'].value_counts() + data['team2'].value_counts()"
   ]
  },
  {
   "cell_type": "markdown",
   "id": "2ef5d4f1-4f63-4b58-81df-bbd0e6dd0ba0",
   "metadata": {},
   "source": [
    "# Series Operations END"
   ]
  },
  {
   "cell_type": "code",
   "execution_count": null,
   "id": "95c1d3a8-71d6-413e-addb-ac902b44b4e0",
   "metadata": {},
   "outputs": [],
   "source": []
  },
  {
   "cell_type": "markdown",
   "id": "518db558-89b6-47cb-98d6-8fc1bad7acd3",
   "metadata": {},
   "source": [
    "# sort_values() START"
   ]
  },
  {
   "cell_type": "code",
   "execution_count": null,
   "id": "09132223-6b17-4f4e-b796-c4b66e89e304",
   "metadata": {},
   "outputs": [],
   "source": [
    "(data['team1'].value_counts() + data['team2'].value_counts()).sort_values()"
   ]
  },
  {
   "cell_type": "code",
   "execution_count": null,
   "id": "eabb9fb4-729b-48cf-bba8-1443983a56b1",
   "metadata": {},
   "outputs": [],
   "source": [
    "(data['team1'].value_counts() + data['team2'].value_counts()).sort_values(ascending=False)"
   ]
  },
  {
   "cell_type": "code",
   "execution_count": null,
   "id": "3f754826-140e-4660-a90b-0b3d98a3ca07",
   "metadata": {},
   "outputs": [],
   "source": [
    "(data['team1'].value_counts() + data['team2'].value_counts()).sort_values(ascending=False).head()"
   ]
  },
  {
   "cell_type": "code",
   "execution_count": null,
   "id": "7bbf36b8-8009-47f9-a265-4560e92eb5dc",
   "metadata": {},
   "outputs": [],
   "source": [
    "data.sort_values('city')"
   ]
  },
  {
   "cell_type": "code",
   "execution_count": null,
   "id": "d7cf5926-1fe4-4fc2-b445-e8aa35578fb3",
   "metadata": {},
   "outputs": [],
   "source": [
    "data.sort_values('city', ascending=False)"
   ]
  },
  {
   "cell_type": "code",
   "execution_count": null,
   "id": "12abba2a-2178-4115-ae4b-5f1256753203",
   "metadata": {},
   "outputs": [],
   "source": [
    "data.sort_values(['city','date'])"
   ]
  },
  {
   "cell_type": "code",
   "execution_count": null,
   "id": "4fbbab6f-f44c-4847-8119-9fd78cfc9c06",
   "metadata": {},
   "outputs": [],
   "source": [
    "data.sort_values(['city','date'], ascending=[True, False])"
   ]
  },
  {
   "cell_type": "code",
   "execution_count": null,
   "id": "4d2b582a-f0df-4bb4-af7b-d5844473956b",
   "metadata": {},
   "outputs": [],
   "source": [
    "# How would you sort the DataFrame based on the 'win_by_runs' column in ascending order?\n",
    "data.sort_values('win_by_runs')"
   ]
  },
  {
   "cell_type": "code",
   "execution_count": null,
   "id": "0c5e9dcc-9bd1-4fbb-be4d-3bad72591d0f",
   "metadata": {},
   "outputs": [],
   "source": [
    "# Can you sort the DataFrame based on 'season' in ascending order and then 'win_by_runs' in descending order?\n",
    "data.sort_values(['season', 'win_by_runs'], ascending=[True, False])\n"
   ]
  },
  {
   "cell_type": "code",
   "execution_count": null,
   "id": "9996b355-caac-499d-92ae-7be28edb06af",
   "metadata": {},
   "outputs": [],
   "source": [
    "# Sort the DataFrame by 'win_by_runs' in descending order and display the top 5 matches.\n",
    "data.sort_values('win_by_runs', ascending=False).head()"
   ]
  },
  {
   "cell_type": "code",
   "execution_count": null,
   "id": "7ee9349e-9563-493d-961a-ca57e8fe22a1",
   "metadata": {},
   "outputs": [],
   "source": [
    "# Sort the DataFrame by 'win_by_runs' in ascending order and display the bottom 10 matches.\n",
    "data.sort_values('win_by_runs').tail(10)"
   ]
  },
  {
   "cell_type": "markdown",
   "id": "e38922fe-6dcf-4a84-b755-ff487fbc7ad1",
   "metadata": {},
   "source": [
    "# sort_values() END"
   ]
  },
  {
   "cell_type": "code",
   "execution_count": null,
   "id": "9b5e9f92-b005-40cf-85dc-ac67b6e4a4b0",
   "metadata": {},
   "outputs": [],
   "source": []
  },
  {
   "cell_type": "markdown",
   "id": "ff215b47-7516-466d-ae85-2c6b310ecf02",
   "metadata": {},
   "source": [
    "# drop_duplicates() START"
   ]
  },
  {
   "cell_type": "code",
   "execution_count": null,
   "id": "fe9b2f16-fbcb-4da1-91a1-a4a5ebd60b73",
   "metadata": {},
   "outputs": [],
   "source": [
    "data.drop_duplicates(subset=['city'])"
   ]
  },
  {
   "cell_type": "code",
   "execution_count": null,
   "id": "7193cbf6-0932-4ff7-8075-2d8b650a85b5",
   "metadata": {},
   "outputs": [],
   "source": [
    "data.drop_duplicates(subset=['city','season'])"
   ]
  },
  {
   "cell_type": "code",
   "execution_count": null,
   "id": "742d4593-10dd-4303-932d-3673800a56fd",
   "metadata": {},
   "outputs": [],
   "source": [
    "data.drop_duplicates('season', keep='last')[['season','winner']].sort_values('season')"
   ]
  },
  {
   "cell_type": "code",
   "execution_count": null,
   "id": "b1e2b84d-6642-4280-b9b9-d859b5aea526",
   "metadata": {},
   "outputs": [],
   "source": [
    "# How would you drop duplicate rows based on the 'team1' column?\n",
    "data.drop_duplicates('team1')"
   ]
  },
  {
   "cell_type": "code",
   "execution_count": null,
   "id": "c581ec2e-9d59-4e31-8947-c01e863bcaa9",
   "metadata": {},
   "outputs": [],
   "source": [
    "# Can you drop duplicate rows based on both 'team1' and 'team2' columns?\n",
    "data.drop_duplicates(subset=['team1','team2'])"
   ]
  },
  {
   "cell_type": "code",
   "execution_count": null,
   "id": "28929734-22aa-44d2-b692-bfadbff8e2cf",
   "metadata": {},
   "outputs": [],
   "source": [
    "# Drop duplicate rows based on 'city' and keep the first occurrence for each unique city.\n",
    "data.drop_duplicates('city', keep='first')"
   ]
  },
  {
   "cell_type": "code",
   "execution_count": null,
   "id": "1d6b37b7-090a-483d-8cd3-3d9327650bce",
   "metadata": {},
   "outputs": [],
   "source": [
    "# Drop duplicate rows based on 'city' and keep the last occurrence for each unique city.\n",
    "data.drop_duplicates('city', keep='last')"
   ]
  },
  {
   "cell_type": "code",
   "execution_count": null,
   "id": "69e74725-65c8-4be5-b614-2c0137a82b8d",
   "metadata": {},
   "outputs": [],
   "source": []
  },
  {
   "cell_type": "markdown",
   "id": "a2c10a6e-6c3c-416d-bd51-3cd45de4b15e",
   "metadata": {},
   "source": [
    "# drop_duplicates() END"
   ]
  },
  {
   "cell_type": "code",
   "execution_count": null,
   "id": "1c3272b1-2c22-45e2-85eb-f0cd8856e207",
   "metadata": {},
   "outputs": [],
   "source": []
  },
  {
   "cell_type": "markdown",
   "id": "b3ffd4ff-09a8-4a2a-b754-4d5b975a5bac",
   "metadata": {},
   "source": [
    "# groupby() START"
   ]
  },
  {
   "cell_type": "code",
   "execution_count": null,
   "id": "420dae92-76a0-49b1-9da9-e0dcc25b8675",
   "metadata": {},
   "outputs": [],
   "source": [
    "# How many matches were played in each season?\n",
    "res = data.groupby('season')\n",
    "res['id'].count()"
   ]
  },
  {
   "cell_type": "code",
   "execution_count": null,
   "id": "dad6a2b9-3fac-4c14-80c9-899e1120baa5",
   "metadata": {},
   "outputs": [],
   "source": [
    "# How many matches were played in each city?\n",
    "res = data.groupby('city')\n",
    "res['id'].count()"
   ]
  },
  {
   "cell_type": "code",
   "execution_count": null,
   "id": "61673e90-0b74-4038-b3ef-78b4e11872c5",
   "metadata": {},
   "outputs": [],
   "source": [
    "# What is the total number of wins for each team?\n",
    "res = data.groupby('winner')\n",
    "res['id'].count()"
   ]
  },
  {
   "cell_type": "code",
   "execution_count": null,
   "id": "cc9a9f74-ebd9-44c4-ba19-788a7c5cbbb0",
   "metadata": {},
   "outputs": [],
   "source": [
    "# How many wins did each team secure in each season?\n",
    "data.groupby(['season','winner'])['winner'].count()"
   ]
  },
  {
   "cell_type": "code",
   "execution_count": null,
   "id": "e85c0745-c0be-4046-b4dc-d1c15dc3ca2a",
   "metadata": {},
   "outputs": [],
   "source": [
    "# What is the maximum margin of victory (in runs) in a match for each season?\n",
    "data.groupby('season')['win_by_runs'].max()"
   ]
  },
  {
   "cell_type": "code",
   "execution_count": null,
   "id": "2bc57271-419c-4e39-b76a-e8fdf324344d",
   "metadata": {},
   "outputs": [],
   "source": []
  },
  {
   "cell_type": "markdown",
   "id": "b2598439-c40e-44d9-8a28-c5350cc5dc6c",
   "metadata": {},
   "source": [
    "# groupby() END"
   ]
  },
  {
   "cell_type": "markdown",
   "id": "fa8772a5-1de2-433d-95b8-f7ea6e72da92",
   "metadata": {},
   "source": [
    "# isin() START"
   ]
  },
  {
   "cell_type": "code",
   "execution_count": null,
   "id": "242060d7-47dc-4d5f-9c1a-4479bafdee6d",
   "metadata": {},
   "outputs": [],
   "source": [
    "dataa = pd.Series(['Apple','Banana','Cherry','Donut'])"
   ]
  },
  {
   "cell_type": "code",
   "execution_count": null,
   "id": "35b67864-d2f0-4f37-83bd-e7846a4b6310",
   "metadata": {},
   "outputs": [],
   "source": [
    "dataa.isin(['Apple','Donut'])"
   ]
  },
  {
   "cell_type": "code",
   "execution_count": null,
   "id": "163c5d15-1f8e-40f6-9043-5a16d51fb3fd",
   "metadata": {},
   "outputs": [],
   "source": [
    "# How would you filter the matches where either 'Mumbai Indians' or 'Chennai Super Kings' played as either 'team1' or 'team2'\n",
    "team_list=['Mumbai Indians','Chennai Super Kings']\n",
    "data[data[['team1', 'team2']].isin(team_list)].head(50)"
   ]
  },
  {
   "cell_type": "code",
   "execution_count": null,
   "id": "a64d9f14-2a1c-4892-bc8d-af901ee7af9a",
   "metadata": {},
   "outputs": [],
   "source": [
    "# Can you filter the matches that took place in either 'Bangalore' or 'Delhi'?\n",
    "data[data['city'].isin(['Banglore','Delhi'])]"
   ]
  },
  {
   "cell_type": "code",
   "execution_count": null,
   "id": "62ae5d24-f011-43a5-b251-ba045844bc35",
   "metadata": {},
   "outputs": [],
   "source": [
    "# How would you find the matches where either 'S Ravi' or 'HDPK Dharmasena' were either 'umpire1' or 'umpire2'?\n",
    "data[['umpire1', 'umpire2']].isin(['S Ravi','HDPK Dharmasena']).count()"
   ]
  },
  {
   "cell_type": "markdown",
   "id": "cc7a0e6f-2b25-429c-9025-a4939cb4fa66",
   "metadata": {},
   "source": [
    "# isin() END"
   ]
  },
  {
   "cell_type": "code",
   "execution_count": null,
   "id": "72ce70b3-c9ac-47ea-995c-e648764a1373",
   "metadata": {},
   "outputs": [],
   "source": []
  },
  {
   "cell_type": "markdown",
   "id": "96d2dce4-716d-49cd-858e-ef0702cbbca3",
   "metadata": {},
   "source": [
    "# merge() START"
   ]
  },
  {
   "cell_type": "code",
   "execution_count": null,
   "id": "56647bc2-2add-4e2d-9816-de80ef851669",
   "metadata": {},
   "outputs": [],
   "source": [
    "left_df = pd.DataFrame({'key': ['K0', 'K1', 'K2', 'K3'], 'A': ['A0', 'A1', 'A2', 'A3']})\n",
    "right_df = pd.DataFrame({'key': ['K0', 'K1', 'K2', 'K3'], 'B': ['B0', 'B1', 'B2', 'B3']})\n",
    "\n",
    "merged_df = pd.merge(left_df, right_df, on='key')\n",
    "print(merged_df)"
   ]
  },
  {
   "cell_type": "code",
   "execution_count": null,
   "id": "ecd53acf-cf90-4187-8c2a-5732f68c31c1",
   "metadata": {},
   "outputs": [],
   "source": [
    "df1 = pd.DataFrame({\n",
    "    'key': ['K0', 'K1', 'K2', 'K3'],\n",
    "    'A': ['A0', 'A1', 'A2', 'A3'],\n",
    "    'df1_key': ['K0', 'K1', 'K2', 'K3']\n",
    "})\n",
    "\n",
    "df2 = pd.DataFrame({\n",
    "    'key': ['K0', 'K1', 'K2', 'K3'],\n",
    "    'B': ['B0', 'B1', 'B2', 'B3'],\n",
    "    'df2_key': ['K0', 'K1', 'K2', 'K3']\n",
    "})\n"
   ]
  },
  {
   "cell_type": "code",
   "execution_count": null,
   "id": "bc5d8801-d219-400b-baab-ba633c996e9d",
   "metadata": {},
   "outputs": [],
   "source": [
    "# Merge two DataFrames df1 and df2 on a common column 'key'.\n",
    "pd.merge(df1, df2, left_on='df1_key', right_on='df2_key')"
   ]
  },
  {
   "cell_type": "code",
   "execution_count": null,
   "id": "2ceb7a62-67a1-4e9b-a3d3-6a9c398e6ba4",
   "metadata": {},
   "outputs": [],
   "source": [
    "# Merge two DataFrames df1 and df2 on both 'key1' and 'key2'.\n",
    "pd.merge(df1, df2, left_on=['key','df1_key'], right_on=['key','df2_key'])"
   ]
  },
  {
   "cell_type": "code",
   "execution_count": null,
   "id": "de4e95d7-6e16-4f63-819c-11d30fef68f3",
   "metadata": {},
   "outputs": [],
   "source": [
    "# Perform a left join between df1 and df2.\n",
    "pd.merge(df1, df2, on='key', how='left')"
   ]
  },
  {
   "cell_type": "code",
   "execution_count": null,
   "id": "f31cedc6-8658-46c7-a125-1d2e73953495",
   "metadata": {},
   "outputs": [],
   "source": [
    "# Perform a right join between df1 and df2.\n",
    "pd.merge(df1, df2, on='key', how='right')"
   ]
  },
  {
   "cell_type": "markdown",
   "id": "72d6d7b1-6d52-4ed5-a788-b2c7dc1e68f8",
   "metadata": {},
   "source": [
    "# merge() END"
   ]
  },
  {
   "cell_type": "code",
   "execution_count": null,
   "id": "17aa901f-3238-48e0-a6df-3c83d4e3dbfd",
   "metadata": {},
   "outputs": [],
   "source": []
  },
  {
   "cell_type": "markdown",
   "id": "4c4c3e11-ca9f-458b-a6c7-24c5ddfe8d5b",
   "metadata": {},
   "source": [
    "# pivot_table() START"
   ]
  },
  {
   "cell_type": "code",
   "execution_count": 3,
   "id": "14f1bfe7-668e-4d0e-b965-e8c93b0e9ff9",
   "metadata": {},
   "outputs": [],
   "source": [
    "df = pd.DataFrame({'Category': ['A','B','A','B','A','B'], 'Value': [10, 15, 12, 20, 18, 25]})"
   ]
  },
  {
   "cell_type": "code",
   "execution_count": 5,
   "id": "b7e5e802-d9c5-4f36-b41f-2a7924a893f8",
   "metadata": {},
   "outputs": [
    {
     "data": {
      "text/html": [
       "<div>\n",
       "<style scoped>\n",
       "    .dataframe tbody tr th:only-of-type {\n",
       "        vertical-align: middle;\n",
       "    }\n",
       "\n",
       "    .dataframe tbody tr th {\n",
       "        vertical-align: top;\n",
       "    }\n",
       "\n",
       "    .dataframe thead th {\n",
       "        text-align: right;\n",
       "    }\n",
       "</style>\n",
       "<table border=\"1\" class=\"dataframe\">\n",
       "  <thead>\n",
       "    <tr style=\"text-align: right;\">\n",
       "      <th></th>\n",
       "      <th>Value</th>\n",
       "    </tr>\n",
       "    <tr>\n",
       "      <th>Category</th>\n",
       "      <th></th>\n",
       "    </tr>\n",
       "  </thead>\n",
       "  <tbody>\n",
       "    <tr>\n",
       "      <th>A</th>\n",
       "      <td>40</td>\n",
       "    </tr>\n",
       "    <tr>\n",
       "      <th>B</th>\n",
       "      <td>60</td>\n",
       "    </tr>\n",
       "  </tbody>\n",
       "</table>\n",
       "</div>"
      ],
      "text/plain": [
       "          Value\n",
       "Category       \n",
       "A            40\n",
       "B            60"
      ]
     },
     "execution_count": 5,
     "metadata": {},
     "output_type": "execute_result"
    }
   ],
   "source": [
    "df.pivot_table(index='Category', values='Value', aggfunc='sum')"
   ]
  },
  {
   "cell_type": "code",
   "execution_count": 7,
   "id": "47bd6e48-20a5-4e70-b447-5245e0492e8b",
   "metadata": {},
   "outputs": [],
   "source": [
    "sales = pd.DataFrame({\n",
    "    'Region': ['North', 'South', 'North', 'West', 'East', 'West', 'North', 'South'],\n",
    "    'Category': ['A', 'B', 'A', 'B', 'A', 'A', 'B', 'B'],\n",
    "    'Sales': [100, 200, 150, 300, 180, 250, 120, 190],\n",
    "    'Price': [10, 15, 12, 20, 18, 25, 30, 22],\n",
    "    'Quantity': [5, 7, 8, 6, 10, 9, 4, 6]\n",
    "})"
   ]
  },
  {
   "cell_type": "code",
   "execution_count": 9,
   "id": "1d03a44c-99d8-4b39-891a-03a1113db65b",
   "metadata": {},
   "outputs": [
    {
     "data": {
      "text/html": [
       "<div>\n",
       "<style scoped>\n",
       "    .dataframe tbody tr th:only-of-type {\n",
       "        vertical-align: middle;\n",
       "    }\n",
       "\n",
       "    .dataframe tbody tr th {\n",
       "        vertical-align: top;\n",
       "    }\n",
       "\n",
       "    .dataframe thead th {\n",
       "        text-align: right;\n",
       "    }\n",
       "</style>\n",
       "<table border=\"1\" class=\"dataframe\">\n",
       "  <thead>\n",
       "    <tr style=\"text-align: right;\">\n",
       "      <th></th>\n",
       "      <th>Sales</th>\n",
       "    </tr>\n",
       "    <tr>\n",
       "      <th>Region</th>\n",
       "      <th></th>\n",
       "    </tr>\n",
       "  </thead>\n",
       "  <tbody>\n",
       "    <tr>\n",
       "      <th>East</th>\n",
       "      <td>180</td>\n",
       "    </tr>\n",
       "    <tr>\n",
       "      <th>North</th>\n",
       "      <td>370</td>\n",
       "    </tr>\n",
       "    <tr>\n",
       "      <th>South</th>\n",
       "      <td>390</td>\n",
       "    </tr>\n",
       "    <tr>\n",
       "      <th>West</th>\n",
       "      <td>550</td>\n",
       "    </tr>\n",
       "  </tbody>\n",
       "</table>\n",
       "</div>"
      ],
      "text/plain": [
       "        Sales\n",
       "Region       \n",
       "East      180\n",
       "North     370\n",
       "South     390\n",
       "West      550"
      ]
     },
     "execution_count": 9,
     "metadata": {},
     "output_type": "execute_result"
    }
   ],
   "source": [
    "# Create a pivot table that shows the sum of 'Sales' for each 'Region'.\n",
    "sales.pivot_table(index='Region',values='Sales',aggfunc='sum')"
   ]
  },
  {
   "cell_type": "code",
   "execution_count": 11,
   "id": "54f193a3-80ce-41c8-ab5e-a11e65287679",
   "metadata": {},
   "outputs": [
    {
     "data": {
      "text/html": [
       "<div>\n",
       "<style scoped>\n",
       "    .dataframe tbody tr th:only-of-type {\n",
       "        vertical-align: middle;\n",
       "    }\n",
       "\n",
       "    .dataframe tbody tr th {\n",
       "        vertical-align: top;\n",
       "    }\n",
       "\n",
       "    .dataframe thead th {\n",
       "        text-align: right;\n",
       "    }\n",
       "</style>\n",
       "<table border=\"1\" class=\"dataframe\">\n",
       "  <thead>\n",
       "    <tr style=\"text-align: right;\">\n",
       "      <th></th>\n",
       "      <th></th>\n",
       "      <th>Price</th>\n",
       "    </tr>\n",
       "    <tr>\n",
       "      <th>Category</th>\n",
       "      <th>Region</th>\n",
       "      <th></th>\n",
       "    </tr>\n",
       "  </thead>\n",
       "  <tbody>\n",
       "    <tr>\n",
       "      <th rowspan=\"3\" valign=\"top\">A</th>\n",
       "      <th>East</th>\n",
       "      <td>18.0</td>\n",
       "    </tr>\n",
       "    <tr>\n",
       "      <th>North</th>\n",
       "      <td>11.0</td>\n",
       "    </tr>\n",
       "    <tr>\n",
       "      <th>West</th>\n",
       "      <td>25.0</td>\n",
       "    </tr>\n",
       "    <tr>\n",
       "      <th rowspan=\"3\" valign=\"top\">B</th>\n",
       "      <th>North</th>\n",
       "      <td>30.0</td>\n",
       "    </tr>\n",
       "    <tr>\n",
       "      <th>South</th>\n",
       "      <td>18.5</td>\n",
       "    </tr>\n",
       "    <tr>\n",
       "      <th>West</th>\n",
       "      <td>20.0</td>\n",
       "    </tr>\n",
       "  </tbody>\n",
       "</table>\n",
       "</div>"
      ],
      "text/plain": [
       "                 Price\n",
       "Category Region       \n",
       "A        East     18.0\n",
       "         North    11.0\n",
       "         West     25.0\n",
       "B        North    30.0\n",
       "         South    18.5\n",
       "         West     20.0"
      ]
     },
     "execution_count": 11,
     "metadata": {},
     "output_type": "execute_result"
    }
   ],
   "source": [
    "# Create a pivot table that shows the mean 'Price' for each 'Category' within each 'Region'.\n",
    "sales.pivot_table(index=['Category','Region'], values='Price', aggfunc='mean')"
   ]
  },
  {
   "cell_type": "code",
   "execution_count": 13,
   "id": "287bb667-5a9a-4a21-81a0-473c56163333",
   "metadata": {},
   "outputs": [
    {
     "data": {
      "text/html": [
       "<div>\n",
       "<style scoped>\n",
       "    .dataframe tbody tr th:only-of-type {\n",
       "        vertical-align: middle;\n",
       "    }\n",
       "\n",
       "    .dataframe tbody tr th {\n",
       "        vertical-align: top;\n",
       "    }\n",
       "\n",
       "    .dataframe thead th {\n",
       "        text-align: right;\n",
       "    }\n",
       "</style>\n",
       "<table border=\"1\" class=\"dataframe\">\n",
       "  <thead>\n",
       "    <tr style=\"text-align: right;\">\n",
       "      <th></th>\n",
       "      <th></th>\n",
       "      <th>Quantity</th>\n",
       "    </tr>\n",
       "    <tr>\n",
       "      <th>Category</th>\n",
       "      <th>Region</th>\n",
       "      <th></th>\n",
       "    </tr>\n",
       "  </thead>\n",
       "  <tbody>\n",
       "    <tr>\n",
       "      <th rowspan=\"3\" valign=\"top\">A</th>\n",
       "      <th>East</th>\n",
       "      <td>10.0</td>\n",
       "    </tr>\n",
       "    <tr>\n",
       "      <th>North</th>\n",
       "      <td>6.5</td>\n",
       "    </tr>\n",
       "    <tr>\n",
       "      <th>West</th>\n",
       "      <td>9.0</td>\n",
       "    </tr>\n",
       "    <tr>\n",
       "      <th rowspan=\"3\" valign=\"top\">B</th>\n",
       "      <th>North</th>\n",
       "      <td>4.0</td>\n",
       "    </tr>\n",
       "    <tr>\n",
       "      <th>South</th>\n",
       "      <td>6.5</td>\n",
       "    </tr>\n",
       "    <tr>\n",
       "      <th>West</th>\n",
       "      <td>6.0</td>\n",
       "    </tr>\n",
       "  </tbody>\n",
       "</table>\n",
       "</div>"
      ],
      "text/plain": [
       "                 Quantity\n",
       "Category Region          \n",
       "A        East        10.0\n",
       "         North        6.5\n",
       "         West         9.0\n",
       "B        North        4.0\n",
       "         South        6.5\n",
       "         West         6.0"
      ]
     },
     "execution_count": 13,
     "metadata": {},
     "output_type": "execute_result"
    }
   ],
   "source": [
    "# Create a pivot table that displays the median 'Quantity' for each 'Category' and 'Region'.\n",
    "sales.pivot_table(index=['Category','Region'],values='Quantity',aggfunc='median')"
   ]
  },
  {
   "cell_type": "markdown",
   "id": "4cdfbdc8-7961-4461-8f77-6954a69449d8",
   "metadata": {},
   "source": [
    "# pivot_table() END"
   ]
  },
  {
   "cell_type": "code",
   "execution_count": null,
   "id": "b44971fd-3fde-4581-932c-cb5736e956e4",
   "metadata": {},
   "outputs": [],
   "source": []
  },
  {
   "cell_type": "markdown",
   "id": "e2ea49bc-9fa7-4f9f-954a-67818275ef74",
   "metadata": {},
   "source": [
    "# corr START"
   ]
  },
  {
   "cell_type": "code",
   "execution_count": 16,
   "id": "52a84310-8845-411f-b2cc-2dadc7842b98",
   "metadata": {},
   "outputs": [
    {
     "data": {
      "text/html": [
       "<div>\n",
       "<style scoped>\n",
       "    .dataframe tbody tr th:only-of-type {\n",
       "        vertical-align: middle;\n",
       "    }\n",
       "\n",
       "    .dataframe tbody tr th {\n",
       "        vertical-align: top;\n",
       "    }\n",
       "\n",
       "    .dataframe thead th {\n",
       "        text-align: right;\n",
       "    }\n",
       "</style>\n",
       "<table border=\"1\" class=\"dataframe\">\n",
       "  <thead>\n",
       "    <tr style=\"text-align: right;\">\n",
       "      <th></th>\n",
       "      <th>A</th>\n",
       "      <th>B</th>\n",
       "    </tr>\n",
       "  </thead>\n",
       "  <tbody>\n",
       "    <tr>\n",
       "      <th>A</th>\n",
       "      <td>1.0</td>\n",
       "      <td>-1.0</td>\n",
       "    </tr>\n",
       "    <tr>\n",
       "      <th>B</th>\n",
       "      <td>-1.0</td>\n",
       "      <td>1.0</td>\n",
       "    </tr>\n",
       "  </tbody>\n",
       "</table>\n",
       "</div>"
      ],
      "text/plain": [
       "     A    B\n",
       "A  1.0 -1.0\n",
       "B -1.0  1.0"
      ]
     },
     "execution_count": 16,
     "metadata": {},
     "output_type": "execute_result"
    }
   ],
   "source": [
    "c = pd.DataFrame({\n",
    "    'A': [1, 2, 3, 4, 5],\n",
    "    'B': [5, 4, 3, 2, 1]\n",
    "})\n",
    "\n",
    "c.corr()"
   ]
  },
  {
   "cell_type": "markdown",
   "id": "5c415a9d-c4de-4201-9854-ca8aa771bcc8",
   "metadata": {},
   "source": [
    "# corr END"
   ]
  },
  {
   "cell_type": "code",
   "execution_count": null,
   "id": "d7277c0d-1d47-4241-8cd1-1e21b862ef67",
   "metadata": {},
   "outputs": [],
   "source": []
  },
  {
   "cell_type": "markdown",
   "id": "29999dbd-9ba7-42ff-8887-e1e0193fa9bc",
   "metadata": {},
   "source": [
    "# rename() START "
   ]
  },
  {
   "cell_type": "code",
   "execution_count": 18,
   "id": "ccb0a744-9ebf-4d94-8c39-4e087940c2e2",
   "metadata": {},
   "outputs": [],
   "source": [
    "r = pd.DataFrame({\n",
    "    'A': [1, 2, 3],\n",
    "    'B': [4, 5, 6]\n",
    "})"
   ]
  },
  {
   "cell_type": "code",
   "execution_count": 21,
   "id": "2a3e2a04-b223-4365-8ac8-4e9551954070",
   "metadata": {},
   "outputs": [
    {
     "data": {
      "text/html": [
       "<div>\n",
       "<style scoped>\n",
       "    .dataframe tbody tr th:only-of-type {\n",
       "        vertical-align: middle;\n",
       "    }\n",
       "\n",
       "    .dataframe tbody tr th {\n",
       "        vertical-align: top;\n",
       "    }\n",
       "\n",
       "    .dataframe thead th {\n",
       "        text-align: right;\n",
       "    }\n",
       "</style>\n",
       "<table border=\"1\" class=\"dataframe\">\n",
       "  <thead>\n",
       "    <tr style=\"text-align: right;\">\n",
       "      <th></th>\n",
       "      <th>Column A</th>\n",
       "      <th>Column B</th>\n",
       "    </tr>\n",
       "  </thead>\n",
       "  <tbody>\n",
       "    <tr>\n",
       "      <th>0</th>\n",
       "      <td>1</td>\n",
       "      <td>4</td>\n",
       "    </tr>\n",
       "    <tr>\n",
       "      <th>1</th>\n",
       "      <td>2</td>\n",
       "      <td>5</td>\n",
       "    </tr>\n",
       "    <tr>\n",
       "      <th>2</th>\n",
       "      <td>3</td>\n",
       "      <td>6</td>\n",
       "    </tr>\n",
       "  </tbody>\n",
       "</table>\n",
       "</div>"
      ],
      "text/plain": [
       "   Column A  Column B\n",
       "0         1         4\n",
       "1         2         5\n",
       "2         3         6"
      ]
     },
     "execution_count": 21,
     "metadata": {},
     "output_type": "execute_result"
    }
   ],
   "source": [
    "r.rename(columns={'A': 'Column A', 'B': 'Column B'}, inplace=True)\n",
    "r"
   ]
  },
  {
   "cell_type": "code",
   "execution_count": 26,
   "id": "94201668-9a25-4d67-b42d-38dba0696c48",
   "metadata": {},
   "outputs": [],
   "source": [
    "ri = pd.DataFrame({\n",
    "    'A': [1, 2, 3],\n",
    "    'B': [4, 5, 6]\n",
    "}, index=['one', 'two', 'three'])\n"
   ]
  },
  {
   "cell_type": "code",
   "execution_count": 29,
   "id": "a2aef133-bc24-4fed-9318-8475c7186e3d",
   "metadata": {},
   "outputs": [
    {
     "data": {
      "text/html": [
       "<div>\n",
       "<style scoped>\n",
       "    .dataframe tbody tr th:only-of-type {\n",
       "        vertical-align: middle;\n",
       "    }\n",
       "\n",
       "    .dataframe tbody tr th {\n",
       "        vertical-align: top;\n",
       "    }\n",
       "\n",
       "    .dataframe thead th {\n",
       "        text-align: right;\n",
       "    }\n",
       "</style>\n",
       "<table border=\"1\" class=\"dataframe\">\n",
       "  <thead>\n",
       "    <tr style=\"text-align: right;\">\n",
       "      <th></th>\n",
       "      <th>A</th>\n",
       "      <th>B</th>\n",
       "    </tr>\n",
       "  </thead>\n",
       "  <tbody>\n",
       "    <tr>\n",
       "      <th>one</th>\n",
       "      <td>1</td>\n",
       "      <td>4</td>\n",
       "    </tr>\n",
       "    <tr>\n",
       "      <th>two</th>\n",
       "      <td>2</td>\n",
       "      <td>5</td>\n",
       "    </tr>\n",
       "    <tr>\n",
       "      <th>three</th>\n",
       "      <td>3</td>\n",
       "      <td>6</td>\n",
       "    </tr>\n",
       "  </tbody>\n",
       "</table>\n",
       "</div>"
      ],
      "text/plain": [
       "       A  B\n",
       "one    1  4\n",
       "two    2  5\n",
       "three  3  6"
      ]
     },
     "execution_count": 29,
     "metadata": {},
     "output_type": "execute_result"
    }
   ],
   "source": [
    "ri.rename(columns={'one': 'first', 'two': 'second', 'three': 'third'}, inplace=True)\n",
    "ri"
   ]
  },
  {
   "cell_type": "code",
   "execution_count": 33,
   "id": "1bea806c-aaea-4220-bea0-da0c06a4bdc0",
   "metadata": {},
   "outputs": [
    {
     "data": {
      "text/html": [
       "<div>\n",
       "<style scoped>\n",
       "    .dataframe tbody tr th:only-of-type {\n",
       "        vertical-align: middle;\n",
       "    }\n",
       "\n",
       "    .dataframe tbody tr th {\n",
       "        vertical-align: top;\n",
       "    }\n",
       "\n",
       "    .dataframe thead th {\n",
       "        text-align: right;\n",
       "    }\n",
       "</style>\n",
       "<table border=\"1\" class=\"dataframe\">\n",
       "  <thead>\n",
       "    <tr style=\"text-align: right;\">\n",
       "      <th></th>\n",
       "      <th>Column1</th>\n",
       "      <th>Column2</th>\n",
       "      <th>Column3</th>\n",
       "    </tr>\n",
       "  </thead>\n",
       "  <tbody>\n",
       "    <tr>\n",
       "      <th>0</th>\n",
       "      <td>1</td>\n",
       "      <td>4</td>\n",
       "      <td>7</td>\n",
       "    </tr>\n",
       "    <tr>\n",
       "      <th>1</th>\n",
       "      <td>2</td>\n",
       "      <td>5</td>\n",
       "      <td>8</td>\n",
       "    </tr>\n",
       "    <tr>\n",
       "      <th>2</th>\n",
       "      <td>3</td>\n",
       "      <td>6</td>\n",
       "      <td>9</td>\n",
       "    </tr>\n",
       "  </tbody>\n",
       "</table>\n",
       "</div>"
      ],
      "text/plain": [
       "   Column1  Column2  Column3\n",
       "0        1        4        7\n",
       "1        2        5        8\n",
       "2        3        6        9"
      ]
     },
     "execution_count": 33,
     "metadata": {},
     "output_type": "execute_result"
    }
   ],
   "source": [
    "# Given a DataFrame df with columns 'A', 'B', and 'C', rename 'A' to 'Column1', 'B' to 'Column2', and 'C' to 'Column3'.\n",
    "df1 = pd.DataFrame({\n",
    "    'A': [1, 2, 3],\n",
    "    'B': [4, 5, 6],\n",
    "    'C': [7, 8, 9]\n",
    "})\n",
    "df1.rename(columns={'A': 'Column1','B': 'Column2','C': 'Column3'})"
   ]
  },
  {
   "cell_type": "code",
   "execution_count": 36,
   "id": "a73c45ad-2570-43f5-be26-fbcaf4b141a2",
   "metadata": {},
   "outputs": [
    {
     "data": {
      "text/html": [
       "<div>\n",
       "<style scoped>\n",
       "    .dataframe tbody tr th:only-of-type {\n",
       "        vertical-align: middle;\n",
       "    }\n",
       "\n",
       "    .dataframe tbody tr th {\n",
       "        vertical-align: top;\n",
       "    }\n",
       "\n",
       "    .dataframe thead th {\n",
       "        text-align: right;\n",
       "    }\n",
       "</style>\n",
       "<table border=\"1\" class=\"dataframe\">\n",
       "  <thead>\n",
       "    <tr style=\"text-align: right;\">\n",
       "      <th></th>\n",
       "      <th>Yearas</th>\n",
       "      <th>Length</th>\n",
       "    </tr>\n",
       "  </thead>\n",
       "  <tbody>\n",
       "    <tr>\n",
       "      <th>0</th>\n",
       "      <td>18</td>\n",
       "      <td>4.4</td>\n",
       "    </tr>\n",
       "    <tr>\n",
       "      <th>1</th>\n",
       "      <td>20</td>\n",
       "      <td>5.5</td>\n",
       "    </tr>\n",
       "    <tr>\n",
       "      <th>2</th>\n",
       "      <td>22</td>\n",
       "      <td>6.6</td>\n",
       "    </tr>\n",
       "  </tbody>\n",
       "</table>\n",
       "</div>"
      ],
      "text/plain": [
       "   Yearas  Length\n",
       "0      18     4.4\n",
       "1      20     5.5\n",
       "2      22     6.6"
      ]
     },
     "execution_count": 36,
     "metadata": {},
     "output_type": "execute_result"
    }
   ],
   "source": [
    "# Given a DataFrame df with columns 'Age' and 'Height', create a new DataFrame with the columns renamed to 'Years' and 'Length', respectively.\n",
    "d = pd.DataFrame({'Age': [18, 20, 22], 'Height': [4.4, 5.5, 6.6]})\n",
    "d.rename(columns={'Age':'Yearas', 'Height':'Length'})"
   ]
  },
  {
   "cell_type": "code",
   "execution_count": 37,
   "id": "97c53b86-cd18-4738-97af-283e0e475eca",
   "metadata": {},
   "outputs": [
    {
     "data": {
      "text/html": [
       "<div>\n",
       "<style scoped>\n",
       "    .dataframe tbody tr th:only-of-type {\n",
       "        vertical-align: middle;\n",
       "    }\n",
       "\n",
       "    .dataframe tbody tr th {\n",
       "        vertical-align: top;\n",
       "    }\n",
       "\n",
       "    .dataframe thead th {\n",
       "        text-align: right;\n",
       "    }\n",
       "</style>\n",
       "<table border=\"1\" class=\"dataframe\">\n",
       "  <thead>\n",
       "    <tr style=\"text-align: right;\">\n",
       "      <th></th>\n",
       "      <th>Age</th>\n",
       "      <th>Height</th>\n",
       "    </tr>\n",
       "  </thead>\n",
       "  <tbody>\n",
       "    <tr>\n",
       "      <th>0</th>\n",
       "      <td>18</td>\n",
       "      <td>4.4</td>\n",
       "    </tr>\n",
       "    <tr>\n",
       "      <th>1</th>\n",
       "      <td>20</td>\n",
       "      <td>5.5</td>\n",
       "    </tr>\n",
       "    <tr>\n",
       "      <th>second</th>\n",
       "      <td>22</td>\n",
       "      <td>6.6</td>\n",
       "    </tr>\n",
       "  </tbody>\n",
       "</table>\n",
       "</div>"
      ],
      "text/plain": [
       "        Age  Height\n",
       "0        18     4.4\n",
       "1        20     5.5\n",
       "second   22     6.6"
      ]
     },
     "execution_count": 37,
     "metadata": {},
     "output_type": "execute_result"
    }
   ],
   "source": [
    "# Given a DataFrame df with index 'one', 'two', 'three', rename the index 'two' to 'second'.\n",
    "d.rename(index={2:'second'})"
   ]
  },
  {
   "cell_type": "markdown",
   "id": "5dc7c8ec-95b3-450d-a4f8-4256ceeff5b0",
   "metadata": {},
   "source": [
    "# rename() END"
   ]
  },
  {
   "cell_type": "code",
   "execution_count": null,
   "id": "a34980c5-6602-4acb-8fa2-a10fe4ba9e66",
   "metadata": {},
   "outputs": [],
   "source": []
  },
  {
   "cell_type": "markdown",
   "id": "1d9fcaac-1ab7-4405-ad4d-7080a1513e9d",
   "metadata": {},
   "source": [
    "# set_index() and reset_index() START"
   ]
  },
  {
   "cell_type": "code",
   "execution_count": 45,
   "id": "38cd2e0a-0312-4aaa-8d80-5bd96e3d9cf9",
   "metadata": {},
   "outputs": [],
   "source": [
    "data.set_index('id', inplace=True)"
   ]
  },
  {
   "cell_type": "code",
   "execution_count": 46,
   "id": "48272b93-e1a9-477f-aa55-bf6459be6c76",
   "metadata": {},
   "outputs": [
    {
     "data": {
      "text/html": [
       "<div>\n",
       "<style scoped>\n",
       "    .dataframe tbody tr th:only-of-type {\n",
       "        vertical-align: middle;\n",
       "    }\n",
       "\n",
       "    .dataframe tbody tr th {\n",
       "        vertical-align: top;\n",
       "    }\n",
       "\n",
       "    .dataframe thead th {\n",
       "        text-align: right;\n",
       "    }\n",
       "</style>\n",
       "<table border=\"1\" class=\"dataframe\">\n",
       "  <thead>\n",
       "    <tr style=\"text-align: right;\">\n",
       "      <th></th>\n",
       "      <th>id</th>\n",
       "      <th>season</th>\n",
       "      <th>city</th>\n",
       "      <th>date</th>\n",
       "      <th>team1</th>\n",
       "      <th>team2</th>\n",
       "      <th>toss_winner</th>\n",
       "      <th>toss_decision</th>\n",
       "      <th>result</th>\n",
       "      <th>dl_applied</th>\n",
       "      <th>winner</th>\n",
       "      <th>win_by_runs</th>\n",
       "      <th>win_by_wickets</th>\n",
       "      <th>player_of_match</th>\n",
       "      <th>venue</th>\n",
       "      <th>umpire1</th>\n",
       "      <th>umpire2</th>\n",
       "      <th>umpire3</th>\n",
       "    </tr>\n",
       "  </thead>\n",
       "  <tbody>\n",
       "    <tr>\n",
       "      <th>0</th>\n",
       "      <td>1</td>\n",
       "      <td>2017</td>\n",
       "      <td>Hyderabad</td>\n",
       "      <td>2017-04-05</td>\n",
       "      <td>Sunrisers Hyderabad</td>\n",
       "      <td>Royal Challengers Bangalore</td>\n",
       "      <td>Royal Challengers Bangalore</td>\n",
       "      <td>field</td>\n",
       "      <td>normal</td>\n",
       "      <td>0</td>\n",
       "      <td>Sunrisers Hyderabad</td>\n",
       "      <td>35</td>\n",
       "      <td>0</td>\n",
       "      <td>Yuvraj Singh</td>\n",
       "      <td>Rajiv Gandhi International Stadium, Uppal</td>\n",
       "      <td>AY Dandekar</td>\n",
       "      <td>NJ Llong</td>\n",
       "      <td>NaN</td>\n",
       "    </tr>\n",
       "    <tr>\n",
       "      <th>1</th>\n",
       "      <td>2</td>\n",
       "      <td>2017</td>\n",
       "      <td>Pune</td>\n",
       "      <td>2017-04-06</td>\n",
       "      <td>Mumbai Indians</td>\n",
       "      <td>Rising Pune Supergiant</td>\n",
       "      <td>Rising Pune Supergiant</td>\n",
       "      <td>field</td>\n",
       "      <td>normal</td>\n",
       "      <td>0</td>\n",
       "      <td>Rising Pune Supergiant</td>\n",
       "      <td>0</td>\n",
       "      <td>7</td>\n",
       "      <td>SPD Smith</td>\n",
       "      <td>Maharashtra Cricket Association Stadium</td>\n",
       "      <td>A Nand Kishore</td>\n",
       "      <td>S Ravi</td>\n",
       "      <td>NaN</td>\n",
       "    </tr>\n",
       "    <tr>\n",
       "      <th>2</th>\n",
       "      <td>3</td>\n",
       "      <td>2017</td>\n",
       "      <td>Rajkot</td>\n",
       "      <td>2017-04-07</td>\n",
       "      <td>Gujarat Lions</td>\n",
       "      <td>Kolkata Knight Riders</td>\n",
       "      <td>Kolkata Knight Riders</td>\n",
       "      <td>field</td>\n",
       "      <td>normal</td>\n",
       "      <td>0</td>\n",
       "      <td>Kolkata Knight Riders</td>\n",
       "      <td>0</td>\n",
       "      <td>10</td>\n",
       "      <td>CA Lynn</td>\n",
       "      <td>Saurashtra Cricket Association Stadium</td>\n",
       "      <td>Nitin Menon</td>\n",
       "      <td>CK Nandan</td>\n",
       "      <td>NaN</td>\n",
       "    </tr>\n",
       "    <tr>\n",
       "      <th>3</th>\n",
       "      <td>4</td>\n",
       "      <td>2017</td>\n",
       "      <td>Indore</td>\n",
       "      <td>2017-04-08</td>\n",
       "      <td>Rising Pune Supergiant</td>\n",
       "      <td>Kings XI Punjab</td>\n",
       "      <td>Kings XI Punjab</td>\n",
       "      <td>field</td>\n",
       "      <td>normal</td>\n",
       "      <td>0</td>\n",
       "      <td>Kings XI Punjab</td>\n",
       "      <td>0</td>\n",
       "      <td>6</td>\n",
       "      <td>GJ Maxwell</td>\n",
       "      <td>Holkar Cricket Stadium</td>\n",
       "      <td>AK Chaudhary</td>\n",
       "      <td>C Shamshuddin</td>\n",
       "      <td>NaN</td>\n",
       "    </tr>\n",
       "    <tr>\n",
       "      <th>4</th>\n",
       "      <td>5</td>\n",
       "      <td>2017</td>\n",
       "      <td>Bangalore</td>\n",
       "      <td>2017-04-08</td>\n",
       "      <td>Royal Challengers Bangalore</td>\n",
       "      <td>Delhi Daredevils</td>\n",
       "      <td>Royal Challengers Bangalore</td>\n",
       "      <td>bat</td>\n",
       "      <td>normal</td>\n",
       "      <td>0</td>\n",
       "      <td>Royal Challengers Bangalore</td>\n",
       "      <td>15</td>\n",
       "      <td>0</td>\n",
       "      <td>KM Jadhav</td>\n",
       "      <td>M Chinnaswamy Stadium</td>\n",
       "      <td>NaN</td>\n",
       "      <td>NaN</td>\n",
       "      <td>NaN</td>\n",
       "    </tr>\n",
       "    <tr>\n",
       "      <th>...</th>\n",
       "      <td>...</td>\n",
       "      <td>...</td>\n",
       "      <td>...</td>\n",
       "      <td>...</td>\n",
       "      <td>...</td>\n",
       "      <td>...</td>\n",
       "      <td>...</td>\n",
       "      <td>...</td>\n",
       "      <td>...</td>\n",
       "      <td>...</td>\n",
       "      <td>...</td>\n",
       "      <td>...</td>\n",
       "      <td>...</td>\n",
       "      <td>...</td>\n",
       "      <td>...</td>\n",
       "      <td>...</td>\n",
       "      <td>...</td>\n",
       "      <td>...</td>\n",
       "    </tr>\n",
       "    <tr>\n",
       "      <th>631</th>\n",
       "      <td>632</td>\n",
       "      <td>2016</td>\n",
       "      <td>Raipur</td>\n",
       "      <td>2016-05-22</td>\n",
       "      <td>Delhi Daredevils</td>\n",
       "      <td>Royal Challengers Bangalore</td>\n",
       "      <td>Royal Challengers Bangalore</td>\n",
       "      <td>field</td>\n",
       "      <td>normal</td>\n",
       "      <td>0</td>\n",
       "      <td>Royal Challengers Bangalore</td>\n",
       "      <td>0</td>\n",
       "      <td>6</td>\n",
       "      <td>V Kohli</td>\n",
       "      <td>Shaheed Veer Narayan Singh International Stadium</td>\n",
       "      <td>A Nand Kishore</td>\n",
       "      <td>BNJ Oxenford</td>\n",
       "      <td>NaN</td>\n",
       "    </tr>\n",
       "    <tr>\n",
       "      <th>632</th>\n",
       "      <td>633</td>\n",
       "      <td>2016</td>\n",
       "      <td>Bangalore</td>\n",
       "      <td>2016-05-24</td>\n",
       "      <td>Gujarat Lions</td>\n",
       "      <td>Royal Challengers Bangalore</td>\n",
       "      <td>Royal Challengers Bangalore</td>\n",
       "      <td>field</td>\n",
       "      <td>normal</td>\n",
       "      <td>0</td>\n",
       "      <td>Royal Challengers Bangalore</td>\n",
       "      <td>0</td>\n",
       "      <td>4</td>\n",
       "      <td>AB de Villiers</td>\n",
       "      <td>M Chinnaswamy Stadium</td>\n",
       "      <td>AK Chaudhary</td>\n",
       "      <td>HDPK Dharmasena</td>\n",
       "      <td>NaN</td>\n",
       "    </tr>\n",
       "    <tr>\n",
       "      <th>633</th>\n",
       "      <td>634</td>\n",
       "      <td>2016</td>\n",
       "      <td>Delhi</td>\n",
       "      <td>2016-05-25</td>\n",
       "      <td>Sunrisers Hyderabad</td>\n",
       "      <td>Kolkata Knight Riders</td>\n",
       "      <td>Kolkata Knight Riders</td>\n",
       "      <td>field</td>\n",
       "      <td>normal</td>\n",
       "      <td>0</td>\n",
       "      <td>Sunrisers Hyderabad</td>\n",
       "      <td>22</td>\n",
       "      <td>0</td>\n",
       "      <td>MC Henriques</td>\n",
       "      <td>Feroz Shah Kotla</td>\n",
       "      <td>M Erasmus</td>\n",
       "      <td>C Shamshuddin</td>\n",
       "      <td>NaN</td>\n",
       "    </tr>\n",
       "    <tr>\n",
       "      <th>634</th>\n",
       "      <td>635</td>\n",
       "      <td>2016</td>\n",
       "      <td>Delhi</td>\n",
       "      <td>2016-05-27</td>\n",
       "      <td>Gujarat Lions</td>\n",
       "      <td>Sunrisers Hyderabad</td>\n",
       "      <td>Sunrisers Hyderabad</td>\n",
       "      <td>field</td>\n",
       "      <td>normal</td>\n",
       "      <td>0</td>\n",
       "      <td>Sunrisers Hyderabad</td>\n",
       "      <td>0</td>\n",
       "      <td>4</td>\n",
       "      <td>DA Warner</td>\n",
       "      <td>Feroz Shah Kotla</td>\n",
       "      <td>M Erasmus</td>\n",
       "      <td>CK Nandan</td>\n",
       "      <td>NaN</td>\n",
       "    </tr>\n",
       "    <tr>\n",
       "      <th>635</th>\n",
       "      <td>636</td>\n",
       "      <td>2016</td>\n",
       "      <td>Bangalore</td>\n",
       "      <td>2016-05-29</td>\n",
       "      <td>Sunrisers Hyderabad</td>\n",
       "      <td>Royal Challengers Bangalore</td>\n",
       "      <td>Sunrisers Hyderabad</td>\n",
       "      <td>bat</td>\n",
       "      <td>normal</td>\n",
       "      <td>0</td>\n",
       "      <td>Sunrisers Hyderabad</td>\n",
       "      <td>8</td>\n",
       "      <td>0</td>\n",
       "      <td>BCJ Cutting</td>\n",
       "      <td>M Chinnaswamy Stadium</td>\n",
       "      <td>HDPK Dharmasena</td>\n",
       "      <td>BNJ Oxenford</td>\n",
       "      <td>NaN</td>\n",
       "    </tr>\n",
       "  </tbody>\n",
       "</table>\n",
       "<p>636 rows × 18 columns</p>\n",
       "</div>"
      ],
      "text/plain": [
       "      id  season       city        date                        team1  \\\n",
       "0      1    2017  Hyderabad  2017-04-05          Sunrisers Hyderabad   \n",
       "1      2    2017       Pune  2017-04-06               Mumbai Indians   \n",
       "2      3    2017     Rajkot  2017-04-07                Gujarat Lions   \n",
       "3      4    2017     Indore  2017-04-08       Rising Pune Supergiant   \n",
       "4      5    2017  Bangalore  2017-04-08  Royal Challengers Bangalore   \n",
       "..   ...     ...        ...         ...                          ...   \n",
       "631  632    2016     Raipur  2016-05-22             Delhi Daredevils   \n",
       "632  633    2016  Bangalore  2016-05-24                Gujarat Lions   \n",
       "633  634    2016      Delhi  2016-05-25          Sunrisers Hyderabad   \n",
       "634  635    2016      Delhi  2016-05-27                Gujarat Lions   \n",
       "635  636    2016  Bangalore  2016-05-29          Sunrisers Hyderabad   \n",
       "\n",
       "                           team2                  toss_winner toss_decision  \\\n",
       "0    Royal Challengers Bangalore  Royal Challengers Bangalore         field   \n",
       "1         Rising Pune Supergiant       Rising Pune Supergiant         field   \n",
       "2          Kolkata Knight Riders        Kolkata Knight Riders         field   \n",
       "3                Kings XI Punjab              Kings XI Punjab         field   \n",
       "4               Delhi Daredevils  Royal Challengers Bangalore           bat   \n",
       "..                           ...                          ...           ...   \n",
       "631  Royal Challengers Bangalore  Royal Challengers Bangalore         field   \n",
       "632  Royal Challengers Bangalore  Royal Challengers Bangalore         field   \n",
       "633        Kolkata Knight Riders        Kolkata Knight Riders         field   \n",
       "634          Sunrisers Hyderabad          Sunrisers Hyderabad         field   \n",
       "635  Royal Challengers Bangalore          Sunrisers Hyderabad           bat   \n",
       "\n",
       "     result  dl_applied                       winner  win_by_runs  \\\n",
       "0    normal           0          Sunrisers Hyderabad           35   \n",
       "1    normal           0       Rising Pune Supergiant            0   \n",
       "2    normal           0        Kolkata Knight Riders            0   \n",
       "3    normal           0              Kings XI Punjab            0   \n",
       "4    normal           0  Royal Challengers Bangalore           15   \n",
       "..      ...         ...                          ...          ...   \n",
       "631  normal           0  Royal Challengers Bangalore            0   \n",
       "632  normal           0  Royal Challengers Bangalore            0   \n",
       "633  normal           0          Sunrisers Hyderabad           22   \n",
       "634  normal           0          Sunrisers Hyderabad            0   \n",
       "635  normal           0          Sunrisers Hyderabad            8   \n",
       "\n",
       "     win_by_wickets player_of_match  \\\n",
       "0                 0    Yuvraj Singh   \n",
       "1                 7       SPD Smith   \n",
       "2                10         CA Lynn   \n",
       "3                 6      GJ Maxwell   \n",
       "4                 0       KM Jadhav   \n",
       "..              ...             ...   \n",
       "631               6         V Kohli   \n",
       "632               4  AB de Villiers   \n",
       "633               0    MC Henriques   \n",
       "634               4       DA Warner   \n",
       "635               0     BCJ Cutting   \n",
       "\n",
       "                                                venue          umpire1  \\\n",
       "0           Rajiv Gandhi International Stadium, Uppal      AY Dandekar   \n",
       "1             Maharashtra Cricket Association Stadium   A Nand Kishore   \n",
       "2              Saurashtra Cricket Association Stadium      Nitin Menon   \n",
       "3                              Holkar Cricket Stadium     AK Chaudhary   \n",
       "4                               M Chinnaswamy Stadium              NaN   \n",
       "..                                                ...              ...   \n",
       "631  Shaheed Veer Narayan Singh International Stadium   A Nand Kishore   \n",
       "632                             M Chinnaswamy Stadium     AK Chaudhary   \n",
       "633                                  Feroz Shah Kotla        M Erasmus   \n",
       "634                                  Feroz Shah Kotla        M Erasmus   \n",
       "635                             M Chinnaswamy Stadium  HDPK Dharmasena   \n",
       "\n",
       "             umpire2  umpire3  \n",
       "0           NJ Llong      NaN  \n",
       "1             S Ravi      NaN  \n",
       "2          CK Nandan      NaN  \n",
       "3      C Shamshuddin      NaN  \n",
       "4                NaN      NaN  \n",
       "..               ...      ...  \n",
       "631     BNJ Oxenford      NaN  \n",
       "632  HDPK Dharmasena      NaN  \n",
       "633    C Shamshuddin      NaN  \n",
       "634        CK Nandan      NaN  \n",
       "635     BNJ Oxenford      NaN  \n",
       "\n",
       "[636 rows x 18 columns]"
      ]
     },
     "execution_count": 46,
     "metadata": {},
     "output_type": "execute_result"
    }
   ],
   "source": [
    "data.reset_index()"
   ]
  },
  {
   "cell_type": "markdown",
   "id": "ec544cf2-38d7-4d63-9989-9e2e381beeda",
   "metadata": {},
   "source": [
    "# set_index() and reset_index() END"
   ]
  },
  {
   "cell_type": "code",
   "execution_count": null,
   "id": "a7771158-b933-4749-80a1-566674437f16",
   "metadata": {},
   "outputs": [],
   "source": []
  },
  {
   "cell_type": "markdown",
   "id": "da256e0a-e697-4e69-86aa-f37c81a0cb82",
   "metadata": {},
   "source": [
    "# dropna() START"
   ]
  },
  {
   "cell_type": "code",
   "execution_count": 51,
   "id": "d29a7531-daa4-43c5-80c6-891af4a67770",
   "metadata": {},
   "outputs": [
    {
     "data": {
      "text/html": [
       "<div>\n",
       "<style scoped>\n",
       "    .dataframe tbody tr th:only-of-type {\n",
       "        vertical-align: middle;\n",
       "    }\n",
       "\n",
       "    .dataframe tbody tr th {\n",
       "        vertical-align: top;\n",
       "    }\n",
       "\n",
       "    .dataframe thead th {\n",
       "        text-align: right;\n",
       "    }\n",
       "</style>\n",
       "<table border=\"1\" class=\"dataframe\">\n",
       "  <thead>\n",
       "    <tr style=\"text-align: right;\">\n",
       "      <th></th>\n",
       "      <th>A</th>\n",
       "      <th>B</th>\n",
       "    </tr>\n",
       "  </thead>\n",
       "  <tbody>\n",
       "    <tr>\n",
       "      <th>0</th>\n",
       "      <td>1.0</td>\n",
       "      <td>5.0</td>\n",
       "    </tr>\n",
       "    <tr>\n",
       "      <th>3</th>\n",
       "      <td>4.0</td>\n",
       "      <td>8.0</td>\n",
       "    </tr>\n",
       "  </tbody>\n",
       "</table>\n",
       "</div>"
      ],
      "text/plain": [
       "     A    B\n",
       "0  1.0  5.0\n",
       "3  4.0  8.0"
      ]
     },
     "execution_count": 51,
     "metadata": {},
     "output_type": "execute_result"
    }
   ],
   "source": [
    "na = pd.DataFrame({\n",
    "    'A': [1, 2, np.nan, 4],\n",
    "    'B': [5, np.nan, np.nan, 8]\n",
    "})\n",
    "na.dropna()"
   ]
  },
  {
   "cell_type": "code",
   "execution_count": 56,
   "id": "ffb74cda-1c7b-4022-9206-fd9cfd613eca",
   "metadata": {},
   "outputs": [],
   "source": [
    "# Given a DataFrame df with some NaN values, drop rows that have any NaN value.\n",
    "df1 = pd.DataFrame({\n",
    "    'A': [1, np.nan, 3, 4],\n",
    "    'B': [5, 6, np.nan, 8]\n",
    "})"
   ]
  },
  {
   "cell_type": "code",
   "execution_count": 57,
   "id": "9f3fe8dd-903c-4fc8-80fd-8a9dfdb8a384",
   "metadata": {},
   "outputs": [],
   "source": [
    "df2 = pd.DataFrame({\n",
    "    'A': [1, 2, 3, 4],\n",
    "    'B': [5, np.nan, 7, np.nan],\n",
    "    'C': [np.nan, np.nan, np.nan, np.nan]\n",
    "})\n"
   ]
  },
  {
   "cell_type": "code",
   "execution_count": 54,
   "id": "d769b4cd-27d7-4a64-bbe3-6d148621d430",
   "metadata": {},
   "outputs": [],
   "source": [
    "df3 = pd.DataFrame({\n",
    "    'A': [np.nan, np.nan, np.nan, np.nan],\n",
    "    'B': [np.nan, np.nan, np.nan, np.nan],\n",
    "    'C': [np.nan, np.nan, np.nan, np.nan]\n",
    "})\n"
   ]
  },
  {
   "cell_type": "code",
   "execution_count": 55,
   "id": "e972414d-cd7a-4fc8-9f77-fd8f86bbdf63",
   "metadata": {},
   "outputs": [],
   "source": [
    "df4 = pd.DataFrame({\n",
    "    'A': [1, 2, 3, 4],\n",
    "    'B': [np.nan, np.nan, np.nan, np.nan],\n",
    "    'C': [5, 6, 7, 8]\n",
    "})"
   ]
  },
  {
   "cell_type": "code",
   "execution_count": null,
   "id": "80556e57-1b99-4644-9bca-fdeed306f455",
   "metadata": {},
   "outputs": [],
   "source": []
  },
  {
   "cell_type": "markdown",
   "id": "55c5963d-c5c9-4365-8e2b-1dd13ba9589b",
   "metadata": {},
   "source": [
    "# dropna() START"
   ]
  },
  {
   "cell_type": "code",
   "execution_count": null,
   "id": "0960e6ff-9b66-42ab-9d37-09789d9b9898",
   "metadata": {},
   "outputs": [],
   "source": []
  },
  {
   "cell_type": "code",
   "execution_count": null,
   "id": "03dc85d9-1ed0-41e8-90c2-4190217cc1af",
   "metadata": {},
   "outputs": [],
   "source": []
  },
  {
   "cell_type": "code",
   "execution_count": null,
   "id": "a9b8fb03-cc4c-4095-a67b-6e601be98c3f",
   "metadata": {},
   "outputs": [],
   "source": []
  },
  {
   "cell_type": "code",
   "execution_count": null,
   "id": "d81f50f1-0150-42a3-be39-c23696846cff",
   "metadata": {},
   "outputs": [],
   "source": []
  },
  {
   "cell_type": "code",
   "execution_count": null,
   "id": "db9f9092-9a4e-420f-b193-6f9e4773471d",
   "metadata": {},
   "outputs": [],
   "source": []
  }
 ],
 "metadata": {
  "kernelspec": {
   "display_name": "Python 3 (ipykernel)",
   "language": "python",
   "name": "python3"
  },
  "language_info": {
   "codemirror_mode": {
    "name": "ipython",
    "version": 3
   },
   "file_extension": ".py",
   "mimetype": "text/x-python",
   "name": "python",
   "nbconvert_exporter": "python",
   "pygments_lexer": "ipython3",
   "version": "3.11.5"
  }
 },
 "nbformat": 4,
 "nbformat_minor": 5
}
